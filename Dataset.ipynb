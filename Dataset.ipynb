{
 "cells": [
  {
   "cell_type": "code",
   "execution_count": 1,
   "metadata": {
    "collapsed": true
   },
   "outputs": [],
   "source": [
    "import pickle\n",
    "import pandas as pd   "
   ]
  },
  {
   "cell_type": "code",
   "execution_count": 2,
   "metadata": {
    "collapsed": true
   },
   "outputs": [],
   "source": [
    "class Dataset(object):\n",
    "    \n",
    "    def __init__(self ):\n",
    "        \n",
    "        self.raw_Xtrain = []\n",
    "        self.raw_Ytrain = []\n",
    "        self.raw_Xtest = []\n",
    "        \n",
    "        self.y_label = None\n",
    "        self.ts_train = None\n",
    "        self.ts_test = None\n",
    "        \n",
    "        self.ts_00, self.ts_01, self.ts_02, self.ts_03, self.ts_04 = [],[],[],[]\n",
    "        self.ts_05, self.ts_06, self.ts_07, self.ts_07, self.ts_08 = [],[],[],[]\n",
    "        self.ts_06, self.ts_07, self.ts_08, self.ts_09, self.ts_10 = [],[],[],[]\n",
    "        self.ts_11, self.ts_12, self.ts_13, self.ts_14, self.ts_15 = [],[],[],[]\n",
    "        self.ts_16, self.ts_17, self.ts_18, self.ts_19, self.ts_20 = [],[],[],[]\n",
    "        self.ts_21 = []\n",
    "        \n",
    "        pass\n",
    "    \n",
    "    def main(self):\n",
    "        \"\"\"\n",
    "        * The main method to build a Dataset object\n",
    "        \"\"\"\n",
    "        \n",
    "        self.load_rawdata()\n",
    "        return\n",
    "    \n",
    "    def load_rawdata(self):\n",
    "        \"\"\"\n",
    "        * Load raw data into the Dataset object\n",
    "        \"\"\"\n",
    "        \n",
    "        self.get_trainTest_data(\"train\")\n",
    "        self.get_trainTest_data(\"test\")\n",
    "        \n",
    "        return\n",
    "    \n",
    "    def get_trainTest_data(self,partitionName):\n",
    "        \"\"\"\n",
    "        * Get partitionName raw data\n",
    "        \"\"\"\n",
    "        \n",
    "        if partitionName == \"train\":\n",
    "            self.raw_Xtrain, self.raw_Ytrain = pickle.load(open(\"dataset/train_X_y.p\",\"rb\"))\n",
    "            \n",
    "        elif partitionName == \"test\":\n",
    "            self.raw_Xtest =  pickle.load(open(\"dataset/test_X.p\",\"rb\"))\n",
    "        \n",
    "        return\n",
    "    \n",
    "    def mapto_timeseries(self,sect):\n",
    "        \"\"\"\n",
    "        * Map raw data into time series\n",
    "        \"\"\"\n",
    "    \n",
    "        if sect is \"train\": \n",
    "            self.ts_train = self.get_ts_data(self.raw_Xtrain) \n",
    "            self.y_label = pd.DataFrame(self.raw_Ytrain,columns=['Id'])\n",
    "        \n",
    "        elif sect is \"test\":\n",
    "            self.ts_test = self.get_ts_data(self.raw_Xtest)\n",
    "            \n",
    "        return\n",
    "    \n",
    "    \n",
    "    def get_ts_data(self,raw_features):\n",
    "        \"\"\"\n",
    "        * Returns time series data of raw features\n",
    "        \"\"\"\n",
    "    \n",
    "        ts_data = []\n",
    "\n",
    "        for fragment in raw_features:\n",
    "            ts_data.append(pd.DataFrame(fragment,columns=[\"x\",\"y\",\"z\"]))\n",
    "    \n",
    "        return ts_data\n",
    "            \n",
    "            "
   ]
  },
  {
   "cell_type": "code",
   "execution_count": null,
   "metadata": {
    "collapsed": true
   },
   "outputs": [],
   "source": []
  }
 ],
 "metadata": {
  "anaconda-cloud": {},
  "kernelspec": {
   "display_name": "Python [conda env:python3]",
   "language": "python",
   "name": "conda-env-python3-py"
  },
  "language_info": {
   "codemirror_mode": {
    "name": "ipython",
    "version": 3
   },
   "file_extension": ".py",
   "mimetype": "text/x-python",
   "name": "python",
   "nbconvert_exporter": "python",
   "pygments_lexer": "ipython3",
   "version": "3.5.2"
  }
 },
 "nbformat": 4,
 "nbformat_minor": 1
}
